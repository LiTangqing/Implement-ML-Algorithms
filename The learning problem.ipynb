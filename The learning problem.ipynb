{
 "cells": [
  {
   "cell_type": "markdown",
   "metadata": {},
   "source": [
    "### Components of learning"
   ]
  },
  {
   "cell_type": "markdown",
   "metadata": {},
   "source": [
    "1. A pattern exists\n",
    "2. We cannot pin it down mathematically\n",
    "3. We have data on it"
   ]
  },
  {
   "cell_type": "markdown",
   "metadata": {},
   "source": [
    "The 2 solution components of the learning problem:\n",
    "1. The hypothesis set \n",
    "\n",
    "    $H = \\{h\\}$, $g \\in H$\n",
    "\n",
    "2. The learning algorithm (that conducts the searching)\n",
    "\n",
    "Together, they are referred as the learning model.\n",
    "\n",
    "e.g. NN & backpropagation\n"
   ]
  },
  {
   "cell_type": "markdown",
   "metadata": {},
   "source": []
  },
  {
   "cell_type": "markdown",
   "metadata": {},
   "source": [
    "### Perceptron Learning Algorithm"
   ]
  },
  {
   "cell_type": "markdown",
   "metadata": {},
   "source": [
    "### Noisy Target"
   ]
  },
  {
   "cell_type": "markdown",
   "metadata": {},
   "source": [
    "The goal is to find a target function that can represent the unknown **target distribution**.\n",
    "\n",
    "Noisy target refers to that the target function that we are trying to find is actually a target distribution (as opposed to a deterministic function)."
   ]
  },
  {
   "cell_type": "markdown",
   "metadata": {},
   "source": [
    "Noisy target = deterministic target + noise;\n",
    "\n",
    "Deterministic target is a special case of noisy target."
   ]
  },
  {
   "cell_type": "markdown",
   "metadata": {},
   "source": [
    "### The 2 questions of learning\n",
    "\n",
    "$E_{out}(g)$ is achieved through:\n",
    "1. $E_{out}(g) \\approx E_{in}(g)$ \n",
    "2. $E_{in}(g) \\approx 0$\n",
    "\n",
    "In this way, learning is split into 2 qns:\n",
    "1. Can we make sure that $E_{out}(g)$ is close to $E_{in}(g)$ (generalisation)\n",
    "2. Can we make the in sample error small enough?"
   ]
  },
  {
   "cell_type": "markdown",
   "metadata": {},
   "source": [
    "![title](img/in_out_error.png)"
   ]
  },
  {
   "cell_type": "markdown",
   "metadata": {},
   "source": []
  },
  {
   "cell_type": "markdown",
   "metadata": {},
   "source": []
  },
  {
   "cell_type": "markdown",
   "metadata": {},
   "source": []
  }
 ],
 "metadata": {
  "kernelspec": {
   "display_name": "Python [default]",
   "language": "python",
   "name": "python3"
  },
  "language_info": {
   "codemirror_mode": {
    "name": "ipython",
    "version": 3
   },
   "file_extension": ".py",
   "mimetype": "text/x-python",
   "name": "python",
   "nbconvert_exporter": "python",
   "pygments_lexer": "ipython3",
   "version": "3.6.2"
  }
 },
 "nbformat": 4,
 "nbformat_minor": 2
}
