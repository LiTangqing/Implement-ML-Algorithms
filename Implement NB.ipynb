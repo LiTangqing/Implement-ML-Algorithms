{
 "cells": [
  {
   "cell_type": "code",
   "execution_count": 124,
   "metadata": {
    "collapsed": true
   },
   "outputs": [],
   "source": [
    "import pandas as pd\n",
    "import numpy as np\n",
    "import matplotlib.pyplot as plt\n",
    "%matplotlib inline \n",
    "\n",
    "from sklearn.model_selection import train_test_split"
   ]
  },
  {
   "cell_type": "markdown",
   "metadata": {},
   "source": [
    "#### Load wine data"
   ]
  },
  {
   "cell_type": "code",
   "execution_count": 125,
   "metadata": {},
   "outputs": [
    {
     "name": "stdout",
     "output_type": "stream",
     "text": [
      "['DESCR', 'data', 'feature_names', 'target', 'target_names']\n"
     ]
    }
   ],
   "source": [
    "from sklearn.datasets import load_wine\n",
    "wine_data = load_wine() # scikit-learn bunch object \n",
    "\n",
    "# print all attributes of wine_data\n",
    "print(dir(wine_data))"
   ]
  },
  {
   "cell_type": "code",
   "execution_count": 126,
   "metadata": {
    "scrolled": false
   },
   "outputs": [
    {
     "data": {
      "text/html": [
       "<div>\n",
       "<style>\n",
       "    .dataframe thead tr:only-child th {\n",
       "        text-align: right;\n",
       "    }\n",
       "\n",
       "    .dataframe thead th {\n",
       "        text-align: left;\n",
       "    }\n",
       "\n",
       "    .dataframe tbody tr th {\n",
       "        vertical-align: top;\n",
       "    }\n",
       "</style>\n",
       "<table border=\"1\" class=\"dataframe\">\n",
       "  <thead>\n",
       "    <tr style=\"text-align: right;\">\n",
       "      <th></th>\n",
       "      <th>alcohol</th>\n",
       "      <th>malic_acid</th>\n",
       "      <th>ash</th>\n",
       "      <th>alcalinity_of_ash</th>\n",
       "      <th>magnesium</th>\n",
       "      <th>total_phenols</th>\n",
       "      <th>flavanoids</th>\n",
       "      <th>nonflavanoid_phenols</th>\n",
       "      <th>proanthocyanins</th>\n",
       "      <th>color_intensity</th>\n",
       "      <th>hue</th>\n",
       "      <th>od280/od315_of_diluted_wines</th>\n",
       "      <th>proline</th>\n",
       "      <th>target</th>\n",
       "    </tr>\n",
       "  </thead>\n",
       "  <tbody>\n",
       "    <tr>\n",
       "      <th>0</th>\n",
       "      <td>14.23</td>\n",
       "      <td>1.71</td>\n",
       "      <td>2.43</td>\n",
       "      <td>15.6</td>\n",
       "      <td>127.0</td>\n",
       "      <td>2.80</td>\n",
       "      <td>3.06</td>\n",
       "      <td>0.28</td>\n",
       "      <td>2.29</td>\n",
       "      <td>5.64</td>\n",
       "      <td>1.04</td>\n",
       "      <td>3.92</td>\n",
       "      <td>1065.0</td>\n",
       "      <td>0.0</td>\n",
       "    </tr>\n",
       "    <tr>\n",
       "      <th>1</th>\n",
       "      <td>13.20</td>\n",
       "      <td>1.78</td>\n",
       "      <td>2.14</td>\n",
       "      <td>11.2</td>\n",
       "      <td>100.0</td>\n",
       "      <td>2.65</td>\n",
       "      <td>2.76</td>\n",
       "      <td>0.26</td>\n",
       "      <td>1.28</td>\n",
       "      <td>4.38</td>\n",
       "      <td>1.05</td>\n",
       "      <td>3.40</td>\n",
       "      <td>1050.0</td>\n",
       "      <td>0.0</td>\n",
       "    </tr>\n",
       "    <tr>\n",
       "      <th>2</th>\n",
       "      <td>13.16</td>\n",
       "      <td>2.36</td>\n",
       "      <td>2.67</td>\n",
       "      <td>18.6</td>\n",
       "      <td>101.0</td>\n",
       "      <td>2.80</td>\n",
       "      <td>3.24</td>\n",
       "      <td>0.30</td>\n",
       "      <td>2.81</td>\n",
       "      <td>5.68</td>\n",
       "      <td>1.03</td>\n",
       "      <td>3.17</td>\n",
       "      <td>1185.0</td>\n",
       "      <td>0.0</td>\n",
       "    </tr>\n",
       "    <tr>\n",
       "      <th>3</th>\n",
       "      <td>14.37</td>\n",
       "      <td>1.95</td>\n",
       "      <td>2.50</td>\n",
       "      <td>16.8</td>\n",
       "      <td>113.0</td>\n",
       "      <td>3.85</td>\n",
       "      <td>3.49</td>\n",
       "      <td>0.24</td>\n",
       "      <td>2.18</td>\n",
       "      <td>7.80</td>\n",
       "      <td>0.86</td>\n",
       "      <td>3.45</td>\n",
       "      <td>1480.0</td>\n",
       "      <td>0.0</td>\n",
       "    </tr>\n",
       "    <tr>\n",
       "      <th>4</th>\n",
       "      <td>13.24</td>\n",
       "      <td>2.59</td>\n",
       "      <td>2.87</td>\n",
       "      <td>21.0</td>\n",
       "      <td>118.0</td>\n",
       "      <td>2.80</td>\n",
       "      <td>2.69</td>\n",
       "      <td>0.39</td>\n",
       "      <td>1.82</td>\n",
       "      <td>4.32</td>\n",
       "      <td>1.04</td>\n",
       "      <td>2.93</td>\n",
       "      <td>735.0</td>\n",
       "      <td>0.0</td>\n",
       "    </tr>\n",
       "  </tbody>\n",
       "</table>\n",
       "</div>"
      ],
      "text/plain": [
       "   alcohol  malic_acid   ash  alcalinity_of_ash  magnesium  total_phenols  \\\n",
       "0    14.23        1.71  2.43               15.6      127.0           2.80   \n",
       "1    13.20        1.78  2.14               11.2      100.0           2.65   \n",
       "2    13.16        2.36  2.67               18.6      101.0           2.80   \n",
       "3    14.37        1.95  2.50               16.8      113.0           3.85   \n",
       "4    13.24        2.59  2.87               21.0      118.0           2.80   \n",
       "\n",
       "   flavanoids  nonflavanoid_phenols  proanthocyanins  color_intensity   hue  \\\n",
       "0        3.06                  0.28             2.29             5.64  1.04   \n",
       "1        2.76                  0.26             1.28             4.38  1.05   \n",
       "2        3.24                  0.30             2.81             5.68  1.03   \n",
       "3        3.49                  0.24             2.18             7.80  0.86   \n",
       "4        2.69                  0.39             1.82             4.32  1.04   \n",
       "\n",
       "   od280/od315_of_diluted_wines  proline  target  \n",
       "0                          3.92   1065.0     0.0  \n",
       "1                          3.40   1050.0     0.0  \n",
       "2                          3.17   1185.0     0.0  \n",
       "3                          3.45   1480.0     0.0  \n",
       "4                          2.93    735.0     0.0  "
      ]
     },
     "execution_count": 126,
     "metadata": {},
     "output_type": "execute_result"
    }
   ],
   "source": [
    "# transform the bunch object to dataframe\n",
    "# combine features and targets\n",
    "data = np.c_[wine_data.data, wine_data.target]\n",
    "\n",
    "# make 1-d array which contains names of columns\n",
    "columns = np.append(wine_data.feature_names, [\"target\"])\n",
    "\n",
    "# make pandas dataframe \n",
    "df = pd.DataFrame(data, columns=columns)\n",
    "\n",
    "# inspect the data \n",
    "df.head()"
   ]
  },
  {
   "cell_type": "markdown",
   "metadata": {},
   "source": [
    "#### Basic exploration of data"
   ]
  },
  {
   "cell_type": "code",
   "execution_count": 127,
   "metadata": {},
   "outputs": [
    {
     "data": {
      "text/plain": [
       "alcohol                         0\n",
       "malic_acid                      0\n",
       "ash                             0\n",
       "alcalinity_of_ash               0\n",
       "magnesium                       0\n",
       "total_phenols                   0\n",
       "flavanoids                      0\n",
       "nonflavanoid_phenols            0\n",
       "proanthocyanins                 0\n",
       "color_intensity                 0\n",
       "hue                             0\n",
       "od280/od315_of_diluted_wines    0\n",
       "proline                         0\n",
       "target                          0\n",
       "dtype: int64"
      ]
     },
     "execution_count": 127,
     "metadata": {},
     "output_type": "execute_result"
    }
   ],
   "source": [
    "df.isnull().sum()"
   ]
  },
  {
   "cell_type": "markdown",
   "metadata": {},
   "source": [
    "#### Try official scikit-learn implementation first"
   ]
  },
  {
   "cell_type": "code",
   "execution_count": 128,
   "metadata": {
    "collapsed": true
   },
   "outputs": [],
   "source": [
    "# Gaussian NB model\n",
    "from sklearn.naive_bayes import GaussianNB\n",
    "gnb = GaussianNB()"
   ]
  },
  {
   "cell_type": "code",
   "execution_count": 129,
   "metadata": {},
   "outputs": [
    {
     "name": "stdout",
     "output_type": "stream",
     "text": [
      "(124, 13)\n",
      "(54, 13)\n"
     ]
    }
   ],
   "source": [
    "# Train-test split\n",
    "X_train, X_test, Y_train, Y_test = train_test_split(df.iloc[:,:-1],\n",
    "                                                   df.iloc[:,-1],\n",
    "                                                   test_size=.3,\n",
    "                                                   random_state=0)\n",
    "print(X_train.shape)\n",
    "print(X_test.shape)"
   ]
  },
  {
   "cell_type": "code",
   "execution_count": 130,
   "metadata": {
    "collapsed": true
   },
   "outputs": [],
   "source": [
    "# 10-fold cv\n",
    "from sklearn.model_selection import KFold\n",
    "from sklearn.model_selection import cross_val_score\n",
    "\n",
    "kfold = KFold(n_splits=10, random_state=0)\n",
    "cv_result = cross_val_score(gnb, \n",
    "                            X_train, \n",
    "                            Y_train.values.ravel(), \n",
    "                            cv=kfold,\n",
    "                            scoring=\"accuracy\")"
   ]
  },
  {
   "cell_type": "code",
   "execution_count": 131,
   "metadata": {},
   "outputs": [
    {
     "data": {
      "text/plain": [
       "0.9602564102564102"
      ]
     },
     "execution_count": 131,
     "metadata": {},
     "output_type": "execute_result"
    }
   ],
   "source": [
    "cv_result.mean()"
   ]
  },
  {
   "cell_type": "code",
   "execution_count": 132,
   "metadata": {
    "collapsed": true
   },
   "outputs": [],
   "source": [
    "y_pred = gnb.fit(X_train, Y_train).predict(X_test)"
   ]
  },
  {
   "cell_type": "code",
   "execution_count": 133,
   "metadata": {
    "collapsed": true
   },
   "outputs": [],
   "source": [
    "n_mis_classified = (y_pred != Y_test).sum()"
   ]
  },
  {
   "cell_type": "code",
   "execution_count": 134,
   "metadata": {},
   "outputs": [
    {
     "data": {
      "text/plain": [
       "[0.9838709677419355, 0.9444444444444444]"
      ]
     },
     "execution_count": 134,
     "metadata": {},
     "output_type": "execute_result"
    }
   ],
   "source": [
    "[gnb.score(X_train, Y_train), gnb.score(X_test, Y_test)]"
   ]
  },
  {
   "cell_type": "markdown",
   "metadata": {},
   "source": [
    "#### Now implement naive bayes from scratch"
   ]
  },
  {
   "cell_type": "markdown",
   "metadata": {},
   "source": [
    "$$p(c|x) \\propto \\sum_{i=1}^{n} p(x_i|c) * p(c) $$ \n",
    "\n",
    "For Gaussian naive bayes, the likelihood can be expressed as\n",
    "$$p(x_i|c) = \\frac{1}{\\sqrt{2\\pi\\sigma_c^2}}e^{-\\frac{(x_i-u_c)^2}{2\\sigma_c^2}}$$\n",
    "\n",
    "This implies that we should calculate the prior, feature mean and var for each class"
   ]
  },
  {
   "cell_type": "code",
   "execution_count": 135,
   "metadata": {
    "collapsed": true
   },
   "outputs": [],
   "source": [
    "# helper function to calc\n",
    "def calc_feature_mean_var(input_data):\n",
    "    data = input_data\n",
    "    def sub_function_for_data(column):\n",
    "        vec = data.iloc[:,column]\n",
    "        return [np.mean(vec), np.var(vec)]\n",
    "    return sub_function_for_data "
   ]
  },
  {
   "cell_type": "code",
   "execution_count": 136,
   "metadata": {},
   "outputs": [
    {
     "data": {
      "text/plain": [
       "[2.244788732394365, 0.09811791311247767]"
      ]
     },
     "execution_count": 136,
     "metadata": {},
     "output_type": "execute_result"
    }
   ],
   "source": [
    "calc_feature_mean_var(df[df[\"target\"] == 1.0])(2)"
   ]
  },
  {
   "cell_type": "code",
   "execution_count": 142,
   "metadata": {
    "scrolled": true
   },
   "outputs": [
    {
     "data": {
      "text/plain": [
       "{0.0: (0.3225806451612903,\n",
       "  [[13.722, 0.210991],\n",
       "   [2.0337499999999995, 0.5035334375],\n",
       "   [2.4345000000000008, 0.055054750000000006],\n",
       "   [16.677500000000006, 6.6547437500000015],\n",
       "   [104.525, 95.34937500000002],\n",
       "   [2.8327500000000003, 0.1355449375],\n",
       "   [2.992750000000002, 0.17325993749999993],\n",
       "   [0.28625, 0.0046134374999999995],\n",
       "   [1.9314999999999998, 0.17797274999999999],\n",
       "   [5.517249999999999, 1.6676299374999999],\n",
       "   [1.0697499999999998, 0.0127574375],\n",
       "   [3.1760000000000006, 0.13149399999999997],\n",
       "   [1116.425, 45175.44437499998]]),\n",
       " 1.0: (0.3951612903225806,\n",
       "  [[12.286530612244896, 0.32954510620574745],\n",
       "   [1.9473469387755102, 0.871550104123282],\n",
       "   [2.241020408163265, 0.09752344856309869],\n",
       "   [20.410204081632656, 12.651528529779261],\n",
       "   [96.57142857142857, 346.08163265306115],\n",
       "   [2.1951020408163266, 0.22198417326114106],\n",
       "   [1.9877551020408162, 0.32320108288213245],\n",
       "   [0.3622448979591836, 0.013054144106622237],\n",
       "   [1.6777551020408166, 0.4280867971678466],\n",
       "   [2.94, 0.5898530612244898],\n",
       "   [1.0588979591836731, 0.04503788754685549],\n",
       "   [2.801632653061224, 0.22000141607663476],\n",
       "   [530.9591836734694, 25560.855476884633]]),\n",
       " 2.0: (0.28225806451612906,\n",
       "  [[13.11371428571428, 0.23386334693877567],\n",
       "   [3.3945714285714286, 1.3167048163265307],\n",
       "   [2.452571428571429, 0.034287673469387776],\n",
       "   [21.542857142857144, 5.276734693877553],\n",
       "   [99.94285714285714, 121.88244897959183],\n",
       "   [1.6905714285714277, 0.09525110204081634],\n",
       "   [0.7745714285714286, 0.07937338775510204],\n",
       "   [0.4562857142857143, 0.015263346938775506],\n",
       "   [1.1565714285714286, 0.1248911020408164],\n",
       "   [7.292571399999997, 5.195116095902067],\n",
       "   [0.6814285714285715, 0.012349387755102042],\n",
       "   [1.666285714285714, 0.06705763265306121],\n",
       "   [626.4285714285714, 11973.673469387753]])}"
      ]
     },
     "execution_count": 142,
     "metadata": {},
     "output_type": "execute_result"
    }
   ],
   "source": [
    "class_feature_stats = dict() \n",
    "\n",
    "for c in set(Y_train):\n",
    "    feature_index_lst = list(range(0, data.shape[1] - 1))\n",
    "    \n",
    "    # calculate prior for each class\n",
    "    prior = (Y_train == c).sum()/Y_train.shape[0]\n",
    "    \n",
    "    df = df.loc[X_train.index, :]\n",
    "    \n",
    "    # calculate feature mean for current class\n",
    "    class_c_df = df[df[\"target\"] == c]\n",
    "    \n",
    "    # create helpfer function for class c\n",
    "    helper_func = calc_feature_mean_var(class_c_df)\n",
    "    \n",
    "    # calculate mean var pairs for each feature of class c df\n",
    "    mean_var_pairs = list(map(lambda x : helper_func(x), feature_index_lst))\n",
    "    \n",
    "    # add the mean var pair list and prior to dictionary \n",
    "\n",
    "    class_feature_stats[c] = (prior, mean_var_pairs)\n",
    "\n",
    "class_feature_stats"
   ]
  },
  {
   "cell_type": "code",
   "execution_count": 170,
   "metadata": {
    "collapsed": true
   },
   "outputs": [],
   "source": [
    "import scipy.stats\n",
    "\n",
    "def gauss_prob_calculator(mean, var):\n",
    "    \n",
    "    def calc_gauss_prob(x):\n",
    "        distrib = scipy.stats.norm(mean, var)\n",
    "        return distrib.pdf(x)\n",
    "    \n",
    "    return calc_gauss_prob"
   ]
  },
  {
   "cell_type": "code",
   "execution_count": 169,
   "metadata": {},
   "outputs": [
    {
     "data": {
      "text/plain": [
       "0.24197072451914337"
      ]
     },
     "execution_count": 169,
     "metadata": {},
     "output_type": "execute_result"
    }
   ],
   "source": [
    "gauss_prob_calculator(0,1)(1)"
   ]
  },
  {
   "cell_type": "code",
   "execution_count": 179,
   "metadata": {
    "collapsed": true
   },
   "outputs": [],
   "source": [
    "def calc_class_prob(x_test):\n",
    "    prob_list = []\n",
    "    class_list = list(set(Y_train))\n",
    "    for c in class_list:\n",
    "        prior = class_feature_stats[c][0]\n",
    "        mean_var_pairs = class_feature_stats[c][1]\n",
    "        product = prior \n",
    "        \n",
    "        for i in range(len(x_test)):\n",
    "            pair = mean_var_pairs[i]\n",
    "             \n",
    "            prob_calculator = gauss_prob_calculator(pair[0], pair[1]) \n",
    "            product = product * prob_calculator(x_test[i]) \n",
    "        \n",
    "        prob_list.append(product)\n",
    "        \n",
    "    return class_list[prob_list.index(max(prob_list))]"
   ]
  },
  {
   "cell_type": "code",
   "execution_count": 180,
   "metadata": {
    "scrolled": false
   },
   "outputs": [
    {
     "data": {
      "text/plain": [
       "1.0"
      ]
     },
     "execution_count": 180,
     "metadata": {},
     "output_type": "execute_result"
    }
   ],
   "source": [
    "calc_class_prob(X_test.iloc[1,:])"
   ]
  },
  {
   "cell_type": "markdown",
   "metadata": {},
   "source": [
    "#### Predict X_test "
   ]
  },
  {
   "cell_type": "code",
   "execution_count": 183,
   "metadata": {
    "collapsed": true
   },
   "outputs": [],
   "source": [
    "predicts = X_test.apply(calc_class_prob, axis = 1)"
   ]
  },
  {
   "cell_type": "code",
   "execution_count": 185,
   "metadata": {},
   "outputs": [
    {
     "data": {
      "text/plain": [
       "0.6666666666666666"
      ]
     },
     "execution_count": 185,
     "metadata": {},
     "output_type": "execute_result"
    }
   ],
   "source": [
    "(predicts == Y_test).sum()/len(Y_test)"
   ]
  }
 ],
 "metadata": {
  "kernelspec": {
   "display_name": "Python 3",
   "language": "python",
   "name": "python3"
  },
  "language_info": {
   "codemirror_mode": {
    "name": "ipython",
    "version": 3
   },
   "file_extension": ".py",
   "mimetype": "text/x-python",
   "name": "python",
   "nbconvert_exporter": "python",
   "pygments_lexer": "ipython3",
   "version": "3.6.2"
  }
 },
 "nbformat": 4,
 "nbformat_minor": 2
}
